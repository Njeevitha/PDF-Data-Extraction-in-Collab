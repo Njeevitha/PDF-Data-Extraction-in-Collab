{
  "nbformat": 4,
  "nbformat_minor": 0,
  "metadata": {
    "colab": {
      "provenance": []
    },
    "kernelspec": {
      "name": "python3",
      "display_name": "Python 3"
    },
    "language_info": {
      "name": "python"
    }
  },
  "cells": [
    {
      "cell_type": "code",
      "execution_count": null,
      "metadata": {
        "id": "K2wTmbGWAnBj"
      },
      "outputs": [],
      "source": [
        "pip install PyPDF2"
      ]
    },
    {
      "cell_type": "code",
      "source": [
        "import PyPDF2\n",
        "import pandas as pd\n",
        "import regex \n",
        "import re"
      ],
      "metadata": {
        "id": "Ikg86eOjUH1h"
      },
      "execution_count": null,
      "outputs": []
    },
    {
      "cell_type": "code",
      "source": [
        "pdfReader = PyPDF2.PdfReader('Pdf file to extract')\n",
        "print(len(pdfReader.pages))"
      ],
      "metadata": {
        "id": "iH_Bx5dzBZoW"
      },
      "execution_count": null,
      "outputs": []
    },
    {
      "cell_type": "code",
      "source": [
        "pageObj = pdfReader.pages[3]#checked for 17\n",
        "data=pageObj.extract_text()\n",
        "data = data.replace('  ',',')\n",
        "data=data.replace('  ',',')\n",
        "data=data.replace(\"). \",',')\n",
        "data = data.replace('\\n',',')\n",
        "print(data)"
      ],
      "metadata": {
        "id": "q9XpUSRjUgWq"
      },
      "execution_count": null,
      "outputs": []
    },
    {
      "cell_type": "code",
      "source": [
        "##page.3 (page 4)##################\n",
        "data=data.replace(\"Page 4,\",'')\n",
        "#####################"
      ],
      "metadata": {
        "id": "txrq2voKmtAu"
      },
      "execution_count": null,
      "outputs": []
    },
    {
      "cell_type": "code",
      "source": [
        "df = pd.DataFrame([data1.split(',') for data1 in data.split('\\n')])\n",
        "df = df.dropna() \n",
        "df=df.reset_index(drop=True)\n",
        "df=df.T\n",
        "#df.drop(index=df.index[:44],inplace=True)\n",
        "#df.drop(index=df.index[:48],inplace=True)####for pages.3\n",
        "#df.drop(index=df.index[:8],inplace=True)####for pages.4\n",
        "df=df.reset_index(drop=True)\n",
        "df=df.rename(columns={ df.columns[0]: \"A\"})\n",
        "df= df.apply(lambda x: x.replace({'PO Boxes':'', 'Scone':'','GPO Boxes':'','PO Bags':'','GPO Boxes & Bags':''}, regex=True))\n",
        "df = df[~df['A'].isin([''])]\n",
        "df = df.dropna() \n",
        "df=df.reset_index(drop=True)\n",
        "for i, row in df.iterrows():\n",
        "  if(len(df['A'][i].strip())<=1):\n",
        "    df['A'][i]=''\n",
        "for i, row in df.iterrows():\n",
        "  if(\"–\" in str(df['A'][i]) or \"/\" in str(df['A'][i]) or \"&\" in str(df['A'][i])):\n",
        "    df['A'][i]=''\n"
      ],
      "metadata": {
        "id": "e_3YKru4VCmk"
      },
      "execution_count": null,
      "outputs": []
    },
    {
      "cell_type": "code",
      "source": [
        "#df['B']=df.A.str.extract('[A-Z a-z]+([0-9–]+)')\n",
        "#####get only numbers####\n",
        "df['B']='#'+df.A.str.extract('([0-9 –]+)')+'#'\n",
        "\n",
        "for i, row in df.iterrows():\n",
        "  if(str(df['B'][i])=='# #'):\n",
        "    df['B'][i]=''\n",
        "df['B']= df['B'].fillna('')\n",
        "df['B'] = df['B'].replace('nan','')\n",
        "df['col_m']=''\n",
        "df['A']=df['A'].str.replace('([0-9 –]+)','##',regex=True)\n",
        "\n",
        "df['A']=df['A'].str.replace('([a-z ]+)','%',regex=True)\n",
        "for i, row in df.iterrows():\n",
        "  df['col_m'][i]=str(df['A'][i]).replace('##',' '+str(df['B'][i]))\n",
        "  #if(df['A'][i].startswith('##')):\n",
        "  #  df['col_m'][i]=str(df['B'][i])+'###'+str(df['A'][i])\n",
        "  #else:\n",
        "  #  df['col_m'][i]=str(df['A'][i])+'###'+str(df['B'][i])\n",
        "df_int1=pd.DataFrame(columns=['A'])\n",
        "df_int1['A']=df['col_m'].str.split('#',1).explode()\n",
        "df_int1['A']= df_int1['A'].fillna('')\n",
        "df_int1 = df_int1.replace('nan','')\n",
        "df_int1 = df_int1[~df_int1['A'].isin([''])]\n",
        "df_int1 = df_int1[~df_int1['A'].isin([' '])]\n",
        "df_int1=df_int1.reset_index(drop=True)\n",
        "#######explode by % #######\n",
        "df_int2=pd.DataFrame(columns=['A'])\n",
        "df_int2['A']=df_int1['A'].str.split('%',1).explode()\n",
        "df_int2['A']= df_int2['A'].fillna('')\n",
        "df_int2 = df_int2.replace('nan','')\n",
        "df_int2 = df_int2[~df_int2['A'].isin([''])]\n",
        "df_int2 = df_int2[~df_int2['A'].isin([' '])]\n",
        "df_int2=df_int2.reset_index(drop=True)\n",
        "################## remove single length ###########\n",
        "for i, row in df_int2.iterrows():\n",
        "  if(len(str(df_int2['A'][i]).strip())<=1):\n",
        "    df_int2['A'][i]=''\n",
        "  elif (\"%\" in str(df_int2['A'][i]) and \"#\" in str(df_int2['A'][i])):\n",
        "    df_int2['A'][i]=''\n",
        "######## replace % with space ########\n",
        "df_int2['A'] = df_int2['A'].replace(\"%\",'')\n",
        "\n",
        "df_int2['A']= df_int2['A'].fillna('')\n",
        "df_int2 = df_int2.replace('nan','')\n",
        "df_int2 = df_int2.replace('##','')\n",
        "df_int2 = df_int2[~df_int2['A'].isin([''])]\n",
        "df_int2 = df_int2[~df_int2['A'].isin([' '])]\n",
        "df_int2=df_int2.reset_index(drop=True)\n",
        "########## replace ## with space #########\n",
        "for i, row in df_int2.iterrows():\n",
        "  df_int2['A'][i] = df_int2['A'][i].replace('##','')\n",
        "############ second round of split##########\n",
        "df_int3=pd.DataFrame(columns=['A'])\n",
        "df_int3['A']=df_int2['A'].str.split('#',1).explode()\n",
        "for i, row in df_int3.iterrows():\n",
        "  if \"%\" in str(df_int3['A'][i]):\n",
        "    df_int3['A'][i]=''\n",
        "df_int3['A']= df_int3['A'].fillna('')\n",
        "df_int3 = df_int3.replace('nan','')\n",
        "df_int3 = df_int3[~df_int3['A'].isin([''])]\n",
        "df_int3 = df_int3[~df_int3['A'].isin([' '])]\n",
        "df_int3=df_int3.reset_index(drop=True)\n",
        "df_int3['A'] = df_int3['A'].str.rstrip()\n",
        "for i, row in df_int3.iterrows():\n",
        "  if(i<len(df_int3)-1):\n",
        "    temp=''\n",
        "    temp=df_int3['A'][i+1]\n",
        "    temp2=df_int3['A'][i]\n",
        "    res1 = \"\".join(re.findall(\"[a-zA-Z]+\", temp))\n",
        "    res2=\"\".join(re.findall(\"[a-zA-Z]+\", temp2))\n",
        "    if(len(res1)>3 and len(res2)>3):\n",
        "      df_int3['A'][i]=df_int3['A'][i]+df_int3['A'][i+1]\n",
        "      df_int3['A'][i+1]='%%%'\n",
        "for i, row in df_int3.iterrows():\n",
        "  df_int3['A'][i] = df_int3['A'][i].replace('%%%','')\n",
        "for i, row in df_int3.iterrows():\n",
        "  if(df_int3['A'][i]==\"MC\"):\n",
        "    df_int3['A'][i] = ''\n",
        "for i, row in df_int3.iterrows():\n",
        "  if(df_int3['A'][i]==\"V\"):\n",
        "    df_int3['A'][i] = ''\n",
        "df_int3['A']= df_int3['A'].fillna('')\n",
        "df_int3 = df_int3.replace('nan','')\n",
        "df_int3 = df_int3[~df_int3['A'].isin([''])]\n",
        "df_int3 = df_int3[~df_int3['A'].isin([' '])]\n",
        "df_int3=df_int3.reset_index(drop=True)"
      ],
      "metadata": {
        "id": "0omvTU2Lvh9z"
      },
      "execution_count": null,
      "outputs": []
    },
    {
      "cell_type": "code",
      "source": [
        "df_ff=df_int3.set_index([df_int3.index//3, df_int3.index%3+1])['A'].unstack().add_prefix('col')\n",
        "df_ff"
      ],
      "metadata": {
        "id": "WKe8sR6aWKDY"
      },
      "execution_count": null,
      "outputs": []
    },
    {
      "cell_type": "code",
      "source": [
        "df"
      ],
      "metadata": {
        "id": "jVC-aLoQeglt"
      },
      "execution_count": null,
      "outputs": []
    },
    {
      "cell_type": "code",
      "source": [
        "df_ff.to_excel(\"/content/data_sheetcleaned_3page4.xlsx\", sheet_name='3')  "
      ],
      "metadata": {
        "id": "-zxPWTI2F0fr"
      },
      "execution_count": null,
      "outputs": []
    },
    {
      "cell_type": "code",
      "source": [
        "df['B']=df.A.str.extract('([0-9 –]+)') #####get only number####\n",
        "#df['C']=df.A.str.extract('([A-Za-z -]+)')\n",
        "df['col_m']=''\n",
        "df['C']=''\n",
        "pattern = r'[0-9]'\n",
        "for i, row in df.iterrows():\n",
        "  df['C'][i]=re.sub(pattern,'%', str(df['A'][i]))\n",
        "for i, row in df.iterrows():\n",
        "  if \"%%%%\" in str(df['C'][i]):\n",
        "    df['col_m'][i]=''\n",
        "for i, row in df.iterrows():\n",
        "  df['col_m'][i]=str(df['C'][i])+'####'+str(df['B'][i])\n",
        "\n",
        "df_t=pd.DataFrame(columns=['A'])\n",
        "df_t['A']=df['col_m'].str.split('####',1).explode()\n",
        "df.drop(columns=['B', 'col_m'])\n",
        "df_t['A']= df_t['A'].fillna('')\n",
        "df_t = df_t[~df_t['A'].isin([''])]\n",
        "df_t = df_t[~df_t['A'].isin([' '])]\n",
        "df_t=df_t.reset_index(drop=True)\n",
        "#####################################\n",
        "df_t['B']=df_t.A.str.extract('[0-9]+(.*)')\n",
        "df_t['B']= df_t['B'].fillna('')\n",
        "for i, row in df_t.iterrows():\n",
        "  df_t['A'][i]=str(df_t['A'][i])+'####'+str(df_t['B'][i])\n",
        "df_tin=pd.DataFrame(columns=['A'])\n",
        "df_tin['A']=df_t['A'].str.split('####',1).explode()\n",
        "df_tin['A']= df_tin['A'].fillna('')\n",
        "df_tin = df_tin.replace('nan','')\n",
        "df_tin = df_tin[~df_tin['A'].isin([''])]\n",
        "df_tin = df_tin[~df_tin['A'].isin([' '])]\n",
        "df_tin=df_tin.reset_index(drop=True)\n",
        "df_t=df_tin"
      ],
      "metadata": {
        "id": "O9YR5IZ-ibw3"
      },
      "execution_count": null,
      "outputs": []
    },
    {
      "cell_type": "code",
      "source": [
        "#df_t['B']=df_t.A.str.extract('([A-Z -]+)') ##get all non digits\n",
        "df_t['B']=df_t.A.str.extract('([A-Z _]+$)') ##get all non digits\n",
        "\n",
        "for i, row in df_t.iterrows():\n",
        "  if(len(str(df_t['B'][i]).strip())<=1):\n",
        "    df_t['B'][i]=''\n",
        "df_t['C']=df_t.A.str.extract('([0-9 –]+)') ##get all digits\n",
        "for i, row in df_t.iterrows():\n",
        "  if(len(str(df_t['C'][i]).strip())<=1):\n",
        "    df_t['C'][i]=''\n",
        "\n",
        "df_t1=pd.DataFrame(columns=['A'])\n",
        "df_t['T']=''\n",
        "for i, row in df_t.iterrows():\n",
        "  if \"–\" in str(df_t['C'][i]):\n",
        "    df_t['C'][i]=''\n",
        "\n",
        "for i, row in df_t.iterrows():\n",
        "  df_t['T'][i]=str(df_t['C'][i])+'##'+str(df_t['B'][i])\n",
        "  if(len(df_t['T'][i].strip())<=1):\n",
        "    df_t['T'][i]=''\n",
        "\n",
        "df_t=df_t.reset_index(drop=True)\n",
        "df_t1=pd.DataFrame(columns=['A'])\n",
        "df_t1['A']=df_t['T'].str.split('##',1).explode()\n",
        "for i, row in df_t1.iterrows():\n",
        "  if(len(df_t1['A'][i])<=1):\n",
        "    df_t1['A'][i]=''\n",
        "df_t1=df_t1.reset_index(drop=True)"
      ],
      "metadata": {
        "id": "ZVoj3WTo2eei"
      },
      "execution_count": null,
      "outputs": []
    },
    {
      "cell_type": "code",
      "source": [
        "df_t1 = df_t1.replace('nan','')\n",
        "df_t1 = df_t1[~df_t1['A'].isin([''])]\n",
        "df_t1 = df_t1[~df_t1['A'].isin([' '])]\n",
        "df_t1=df_t1.reset_index(drop=True)"
      ],
      "metadata": {
        "id": "gh3IMcZRffbx"
      },
      "execution_count": null,
      "outputs": []
    },
    {
      "cell_type": "code",
      "source": [
        "df_t1"
      ],
      "metadata": {
        "id": "t59nSDrfcmpK"
      },
      "execution_count": null,
      "outputs": []
    },
    {
      "cell_type": "code",
      "source": [
        "df_t1['B']=df_t1.A.str.extract('([A-Z -]+)')\n",
        "df_t1['C']=''\n",
        "for i, row in df_t1.iterrows():\n",
        "  if(len(str(df_t1['B'][i]).strip())<=3):\n",
        "    df_t1['B'][i]=''\n",
        "df_t1['B']= df_t1['B'].fillna('')\n",
        "for i, row in df_t1.iterrows():\n",
        "  if(i<(df_t1.A.count()-1)):\n",
        "    if(df_t1['B'][i+1]!=''):\n",
        "      df_t1['C'][i]=df_t1['B'][i]+'##'+df_t1['B'][i+1]\n",
        "for i, row in df_t1.iterrows():\n",
        "  if(i<(df_t1.A.count()-1)):\n",
        "    if(df_t1['C'][i+1]!=''):\n",
        "      df_t1['C'][i]=''\n",
        "for i, row in df_t1.iterrows():\n",
        "  if(i<(df_t1.A.count()-1)):\n",
        "    if(df_t1['B'][i]!='' and df_t1['C'][i]!=''):\n",
        "      df_t1['A'][i]=df_t1['C'][i]\n",
        "      df_t1['A'][i+1]=''"
      ],
      "metadata": {
        "id": "e3KdcwJcoXRe"
      },
      "execution_count": null,
      "outputs": []
    },
    {
      "cell_type": "code",
      "source": [
        "df_cleaned"
      ],
      "metadata": {
        "id": "FeG_J-6_v4O1"
      },
      "execution_count": null,
      "outputs": []
    },
    {
      "cell_type": "code",
      "source": [
        "df_cleaned=pd.DataFrame(columns=['A1'])\n",
        "df_cleaned['A1']=df_t1['A']\n",
        "df_cleaned = df_cleaned[~df_cleaned['A1'].isin([''])]\n",
        "df_cleaned = df_cleaned[~df_cleaned['A1'].isin([' '])]\n",
        "df_cleaned=df_cleaned.reset_index(drop=True)\n",
        "for i, row in df_cleaned.iterrows():\n",
        "  if(i<(df_cleaned.A1.count()-1)):\n",
        "    if(str(df_cleaned['A1'][i]).strip()==str(df_cleaned['A1'][i+1]).strip()):\n",
        "      df_cleaned['A1'][i+1]=''\n",
        "df_cleaned = df_cleaned[~df_cleaned['A1'].isin([''])]\n",
        "df_cleaned = df_cleaned[~df_cleaned['A1'].isin([' '])]\n",
        "df_cleaned=df_cleaned.reset_index(drop=True)\n",
        "df_cleaned = df_cleaned.replace('##',' ')\n",
        "#df_cleaned"
      ],
      "metadata": {
        "id": "EsZlDSwWt25J"
      },
      "execution_count": null,
      "outputs": []
    },
    {
      "cell_type": "code",
      "source": [
        "df_ff=df_cleaned.set_index([df_cleaned.index//3, df_cleaned.index%3+1])['A1'].unstack().add_prefix('col')"
      ],
      "metadata": {
        "id": "erfOrS8qR-qS"
      },
      "execution_count": null,
      "outputs": []
    },
    {
      "cell_type": "code",
      "source": [
        "df_ff"
      ],
      "metadata": {
        "id": "8Z_-PeR7iz_D"
      },
      "execution_count": null,
      "outputs": []
    },
    {
      "cell_type": "code",
      "source": [
        "df_ff.to_excel(\"/content/data_sheetcleaned_17page18.xlsx\", sheet_name='3')  "
      ],
      "metadata": {
        "id": "4IpF4m0thbl9"
      },
      "execution_count": null,
      "outputs": []
    }
  ]
}